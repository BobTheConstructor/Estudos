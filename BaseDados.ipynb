{
  "nbformat": 4,
  "nbformat_minor": 0,
  "metadata": {
    "colab": {
      "provenance": [],
      "authorship_tag": "ABX9TyMvxTVeO1X3xpXn772qBzyw"
    },
    "kernelspec": {
      "name": "python3",
      "display_name": "Python 3"
    },
    "language_info": {
      "name": "python"
    }
  },
  "cells": [
    {
      "cell_type": "code",
      "source": [
        "!pip install faker"
      ],
      "metadata": {
        "colab": {
          "base_uri": "https://localhost:8080/"
        },
        "id": "B3E7wTJaGmCz",
        "outputId": "329ef541-236e-436f-c3f5-b87c2fff8c95"
      },
      "execution_count": 2,
      "outputs": [
        {
          "output_type": "stream",
          "name": "stdout",
          "text": [
            "Collecting faker\n",
            "  Downloading faker-37.3.0-py3-none-any.whl.metadata (15 kB)\n",
            "Requirement already satisfied: tzdata in /usr/local/lib/python3.11/dist-packages (from faker) (2025.2)\n",
            "Downloading faker-37.3.0-py3-none-any.whl (1.9 MB)\n",
            "\u001b[2K   \u001b[90m━━━━━━━━━━━━━━━━━━━━━━━━━━━━━━━━━━━━━━━━\u001b[0m \u001b[32m1.9/1.9 MB\u001b[0m \u001b[31m20.5 MB/s\u001b[0m eta \u001b[36m0:00:00\u001b[0m\n",
            "\u001b[?25hInstalling collected packages: faker\n",
            "Successfully installed faker-37.3.0\n"
          ]
        }
      ]
    },
    {
      "cell_type": "code",
      "execution_count": 6,
      "metadata": {
        "id": "eo0NbtT9GQtW"
      },
      "outputs": [],
      "source": [
        "import pandas as pd\n",
        "import numpy as np\n",
        "import matplotlib.pyplot as plt\n",
        "import random\n",
        "from faker import Faker\n",
        "from datetime import datetime, timedelta"
      ]
    },
    {
      "cell_type": "code",
      "source": [
        "fake = Faker('pt_BR')\n",
        "Faker.seed(123)\n",
        "random.seed(123)\n",
        "\n",
        "# Função para gerar medida do pneu\n",
        "def gerar_medida(veiculo):\n",
        "    if veiculo == 'carro':\n",
        "        largura = random.choice([165, 175, 185, 195])\n",
        "        altura = random.choice([65, 75])\n",
        "        aro = random.choice([13, 14, 15, 16])\n",
        "    else:  # caminhão\n",
        "        largura = random.choice([205, 215, 225])\n",
        "        altura = random.choice([45, 55, 60, 65, 70])\n",
        "        aro = random.choice([15, 16, 17])\n",
        "    return f\"{largura}/{altura}.{aro}\"\n",
        "\n",
        "cnpj = []\n",
        "for _ in range(10):\n",
        "  x = fake.cnpj()\n",
        "  cnpj.append(x)\n",
        "\n",
        "# Geração dos dados\n",
        "dados = []\n",
        "for _ in range(200):\n",
        "    empresa = random.choice(['Sim', 'Não'])\n",
        "    cpf_cnpj = random.choice(cnpj) if empresa == 'Sim' else fake.cpf()\n",
        "    data_compra = fake.date_between(start_date='-2y', end_date='today')\n",
        "    veiculo = random.choice(['carro', 'caminhao'])\n",
        "    medida_pneu = gerar_medida(veiculo)\n",
        "    remode = random.choice(['Sim', 'Não'])\n",
        "    quantidade = random.randint(1, 6)\n",
        "\n",
        "    if remode == 'Sim':\n",
        "        valor_unitario = round(random.uniform(150.00, 190.00), 2)\n",
        "    else:\n",
        "        valor_unitario = round(random.uniform(200.00, 250.00), 2)\n",
        "\n",
        "    valor_total = round(quantidade * valor_unitario, 2)\n",
        "\n",
        "    dados.append([\n",
        "        empresa,\n",
        "        cpf_cnpj,\n",
        "        data_compra,\n",
        "        veiculo,\n",
        "        medida_pneu,\n",
        "        remode,\n",
        "        quantidade,\n",
        "        valor_unitario,\n",
        "        valor_total\n",
        "    ])\n",
        "\n",
        "# Criar DataFrame\n",
        "colunas = [\n",
        "    'Empresa',\n",
        "    'cpf_cnpj',\n",
        "    'data_compra',\n",
        "    'veiculo',\n",
        "    'medida_pneu',\n",
        "    'Remolde',\n",
        "    'Qnt_vendas',\n",
        "    'Vr_unitario',\n",
        "    'Vr_Total'\n",
        "]\n",
        "\n",
        "tabela = pd.DataFrame(dados, columns=colunas)\n",
        "\n",
        "# Corrigindo a data para dd/mm/yyyy\n",
        "tabela['data_compra'] = pd.to_datetime(tabela['data_compra']).dt.strftime('%d/%m/%Y')\n",
        "\n",
        "# Exibe as primeiras linhas\n",
        "df[df(tabela)]"
      ],
      "metadata": {
        "colab": {
          "base_uri": "https://localhost:8080/",
          "height": 176
        },
        "id": "axk6bz3yG6xo",
        "outputId": "19e2421f-2016-44c7-86d3-2d9476c3b0d4"
      },
      "execution_count": 26,
      "outputs": [
        {
          "output_type": "error",
          "ename": "NameError",
          "evalue": "name 'df' is not defined",
          "traceback": [
            "\u001b[0;31m---------------------------------------------------------------------------\u001b[0m",
            "\u001b[0;31mNameError\u001b[0m                                 Traceback (most recent call last)",
            "\u001b[0;32m<ipython-input-26-779f4687849d>\u001b[0m in \u001b[0;36m<cell line: 0>\u001b[0;34m()\u001b[0m\n\u001b[1;32m     69\u001b[0m \u001b[0;34m\u001b[0m\u001b[0m\n\u001b[1;32m     70\u001b[0m \u001b[0;31m# Exibe as primeiras linhas\u001b[0m\u001b[0;34m\u001b[0m\u001b[0;34m\u001b[0m\u001b[0m\n\u001b[0;32m---> 71\u001b[0;31m \u001b[0mdf\u001b[0m\u001b[0;34m[\u001b[0m\u001b[0mdf\u001b[0m\u001b[0;34m[\u001b[0m\u001b[0mtabela\u001b[0m\u001b[0;34m]\u001b[0m\u001b[0;34m]\u001b[0m\u001b[0;34m\u001b[0m\u001b[0;34m\u001b[0m\u001b[0m\n\u001b[0m",
            "\u001b[0;31mNameError\u001b[0m: name 'df' is not defined"
          ]
        }
      ]
    }
  ]
}